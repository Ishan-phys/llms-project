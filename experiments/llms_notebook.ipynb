{
 "cells": [
  {
   "cell_type": "code",
   "execution_count": 18,
   "metadata": {},
   "outputs": [
    {
     "data": {
      "text/plain": [
       "True"
      ]
     },
     "execution_count": 18,
     "metadata": {},
     "output_type": "execute_result"
    }
   ],
   "source": [
    "\n",
    "from langchain.prompts import PromptTemplate\n",
    "from langchain.embeddings import HuggingFaceEmbeddings\n",
    "from langchain.document_loaders import PyPDFLoader, DirectoryLoader\n",
    "from langchain.text_splitter import RecursiveCharacterTextSplitter\n",
    "from langchain_pinecone import PineconeVectorStore\n",
    "from langchain_core.output_parsers import StrOutputParser\n",
    "from langchain_core.runnables import RunnablePassthrough\n",
    "from langchain.llms import CTransformers\n",
    "from dotenv import load_dotenv\n",
    "\n",
    "import os\n",
    "\n",
    "load_dotenv()"
   ]
  },
  {
   "cell_type": "code",
   "execution_count": 2,
   "metadata": {},
   "outputs": [],
   "source": [
    "def load_pdf(data_dir):\n",
    "    \"\"\"Load PDFs from a directory\n",
    "\n",
    "    Args:\n",
    "        data_dir (str): path to the directory where the pdf data is stored\n",
    "\n",
    "    Returns:\n",
    "        _type_: _description_\n",
    "    \"\"\"\n",
    "    loader = DirectoryLoader(data_dir,\n",
    "                    glob=\"*.pdf\",\n",
    "                    loader_cls=PyPDFLoader)\n",
    "    documents = loader.load()\n",
    "\n",
    "    return documents"
   ]
  },
  {
   "cell_type": "code",
   "execution_count": 3,
   "metadata": {},
   "outputs": [],
   "source": [
    "extracted_data = load_pdf(\"../data/\")"
   ]
  },
  {
   "cell_type": "code",
   "execution_count": 4,
   "metadata": {},
   "outputs": [],
   "source": [
    "def text_split(extracted_data):\n",
    "\n",
    "    text_splitter = RecursiveCharacterTextSplitter(chunk_size=500, chunk_overlap=50)\n",
    "    documents = text_splitter.split_documents(extracted_data)\n",
    "\n",
    "    return documents"
   ]
  },
  {
   "cell_type": "code",
   "execution_count": 5,
   "metadata": {},
   "outputs": [
    {
     "name": "stdout",
     "output_type": "stream",
     "text": [
      "Length of text chunks:  8595\n"
     ]
    }
   ],
   "source": [
    "text_chunks = text_split(extracted_data)\n",
    "print(\"Length of text chunks: \", len(text_chunks))"
   ]
  },
  {
   "cell_type": "code",
   "execution_count": 6,
   "metadata": {},
   "outputs": [],
   "source": [
    "def download_hugging_face_embeddings():\n",
    "    \"\"\"Download the Hugging Face embeddings\n",
    "\n",
    "    Returns:\n",
    "        _type_: _description_\n",
    "    \"\"\"\n",
    "    embeddings = HuggingFaceEmbeddings(model_name=\"sentence-transformers/all-MiniLM-L6-v2\")\n",
    "    return embeddings"
   ]
  },
  {
   "cell_type": "code",
   "execution_count": 7,
   "metadata": {},
   "outputs": [],
   "source": [
    "embeddings = download_hugging_face_embeddings()"
   ]
  },
  {
   "cell_type": "code",
   "execution_count": 8,
   "metadata": {},
   "outputs": [
    {
     "name": "stdout",
     "output_type": "stream",
     "text": [
      "[-0.08045594394207001, 0.03474036976695061, 0.04197043552994728, 0.03294938802719116, -0.010872787795960903, -0.12379560619592667, 0.07415361702442169, -0.004162982106208801, 0.02425968088209629, -0.03343380615115166, 0.023308511823415756, 0.0097760409116745, -0.025727173313498497, -0.03764554113149643, 0.021908342838287354, -0.02695627138018608, -0.001193429110571742, 0.03142089024186134, -0.12250585108995438, 0.009405793622136116, -0.025801697745919228, 0.07865899801254272, 0.024827634915709496, 0.020943669602274895, -0.04023496434092522, -0.04566634073853493, 0.05064922198653221, 0.06266313791275024, -0.020599951967597008, 0.018608979880809784, 0.10433362424373627, -0.021139707416296005, 0.05518507584929466, -0.003499421291053295, -0.011035345494747162, 0.06912390142679214, 0.02409300021827221, -0.023133961483836174, 0.010791191831231117, 0.027800604701042175, -0.024782443419098854, -0.011795461177825928, -0.017575206235051155, 0.031164443120360374, 0.020911864936351776, 0.03464903682470322, 0.016846908256411552, 0.03557026386260986, 0.013146226294338703, 0.01785726100206375, -0.08532533049583435, -0.10858985781669617, -0.007912687957286835, 0.03528339043259621, 0.05369585007429123, 0.02233883924782276, 0.030054600909352303, -0.02528296783566475, 0.0782562717795372, -0.05769114941358566, -0.010927969589829445, 0.01740599051117897, -0.00040333441575057805, -0.014317317865788937, 0.03762206807732582, -0.054812800139188766, -0.08155442774295807, -0.012936440296471119, -0.03828344866633415, -0.04179498180747032, -0.01836751587688923, 0.010145771317183971, -0.060719285160303116, 0.023120613768696785, -0.013108228333294392, -0.03024139627814293, 0.0277763232588768, -0.08447512239217758, 0.09208282083272934, 0.010675432160496712, 0.05907289683818817, -0.0685906857252121, -0.01690216176211834, 0.031278740614652634, 0.05583838373422623, -0.07077436149120331, -0.02978464588522911, 0.025203421711921692, -0.003982233349233866, 0.021856270730495453, -0.12000568211078644, 0.05747689679265022, -0.036624934524297714, -0.015142302960157394, -0.056726425886154175, -0.05587044730782509, 0.04426607862114906, 0.02635471522808075, -0.15519803762435913, 0.18577587604522705, -0.015671517699956894, 0.06884127855300903, 0.01612422801554203, 0.07655908167362213, -0.05733588710427284, -0.06042473018169403, -0.028996912762522697, 0.09683787822723389, -0.039512526243925095, -0.07719078660011292, 0.008421419188380241, -0.05394056439399719, 0.004851574078202248, 0.0360216423869133, 0.07461559772491455, 0.019862182438373566, -0.020445317029953003, 0.08864090591669083, -0.012449556030333042, -0.0541534386575222, 0.028552867472171783, -0.04771930351853371, 0.027452101930975914, 0.0007404648349620402, -0.030869465321302414, -0.010027458891272545, 0.0502779521048069, 3.2026077265214365e-34, 0.13583864271640778, -0.06669620424509048, -0.04676741734147072, 0.1352345049381256, -0.0504298210144043, -0.008889460936188698, -0.06450154632329941, -0.04233105853199959, 0.027283530682325363, -0.0641784742474556, 0.08396090567111969, -0.07041539251804352, -0.06279496103525162, 0.03745746985077858, 0.006795065011829138, 0.02488648146390915, -0.04615827649831772, 0.04173155501484871, -0.002388171385973692, 0.03405742719769478, -0.05860066041350365, -0.001036669360473752, 0.05373670533299446, 0.07251643389463425, 0.07097698003053665, -0.020337721332907677, -0.032145220786333084, -0.044380150735378265, 0.1100347489118576, 0.0407402403652668, 0.06382296234369278, -0.061722252517938614, 0.0284266360104084, 0.02898416854441166, 0.02161666937172413, 0.053729794919490814, -0.03315240889787674, -0.05558035522699356, -0.06295847147703171, -0.07373243570327759, -0.04392901808023453, 0.024015724658966064, 0.032649122178554535, -0.03772760555148125, 0.06416505575180054, 0.021406272426247597, -0.0432591438293457, 0.04693847522139549, 0.011580302380025387, 0.032254379242658615, -0.08200531452894211, 0.06683877110481262, -0.06339384615421295, 0.028445221483707428, -0.010047653689980507, -0.10390299558639526, -0.01379751693457365, -0.013757897540926933, 0.026815826073288918, 0.00787555892020464, -0.0447508804500103, 0.1275268793106079, 0.008272374980151653, 0.08698109537363052, -0.06689496338367462, -0.055620063096284866, 0.07051516324281693, -0.05471069738268852, 0.014281373471021652, 0.009620439261198044, 0.010928221978247166, -0.003229765221476555, 0.003711414523422718, 0.03601823002099991, -0.0078832833096385, -0.002670916495844722, 0.10067719221115112, -0.05305388197302818, -0.01433190330862999, -0.06047292426228523, 0.007393226958811283, 0.00959350448101759, -0.0689125657081604, -0.04094584286212921, 0.05003342032432556, -0.02233811281621456, -0.06817600131034851, -0.14042191207408905, -0.02760799415409565, -0.020858963951468468, -0.0668354257941246, 0.03860975801944733, 0.043621212244033813, -0.015932006761431694, -0.0038200668059289455, -4.375200534842612e-34, 0.05479235574603081, 0.07162176072597504, -0.04971657693386078, -0.03675522655248642, -0.10911447554826736, -0.004720563068985939, -0.07442221790552139, 0.10757582634687424, -0.060134146362543106, -0.04023658484220505, 0.07261893153190613, -0.05826186016201973, -0.019186584278941154, 0.06995564699172974, 0.08543813228607178, -0.012757094576954842, 0.13636057078838348, -0.020942458882927895, -0.008435809053480625, 0.018699750304222107, 0.008012368343770504, 0.024842435494065285, -0.060236431658267975, -0.003318837145343423, 0.06087459623813629, 0.048708949238061905, 0.011830568313598633, 0.028085792437195778, -0.12069234251976013, -0.026805229485034943, 0.054455943405628204, 0.03190962225198746, -0.01985924504697323, 0.05402865633368492, -0.0710771232843399, 0.08867326378822327, 0.04278695955872536, -0.05895334482192993, 0.005590180400758982, -0.024933209642767906, -0.008348900824785233, -0.006740075536072254, -0.03681986778974533, 0.03441517427563667, -0.08874779939651489, -0.04085611552000046, -0.050776563584804535, 0.02201734110713005, 0.028723204508423805, -0.008557990193367004, -0.01847154274582863, 0.028975481167435646, 0.018858475610613823, -0.04375080391764641, 0.06120483577251434, -0.012049304321408272, 0.020307568833231926, 0.017999088391661644, -0.05734967067837715, -0.05007027089595795, 0.008448190055787563, 0.05139726400375366, 0.012813359498977661, 0.06733179837465286, -0.022724304348230362, 0.009043939411640167, -0.03491568937897682, 0.03992009162902832, 0.01472210418432951, -0.028004435822367668, 0.009079564362764359, 0.011682767421007156, 0.0290900319814682, 0.00035980381653644145, 0.0029079660307615995, -0.02687072940170765, 0.010091673582792282, 0.0634414330124855, 0.029481329023838043, 0.09080003947019577, 0.009040078148245811, 0.023878522217273712, 0.019518135115504265, 0.008011420257389545, 0.014742131344974041, -0.04743285849690437, 0.028571544215083122, 0.08037813007831573, 0.06360113620758057, -0.0016782268648967147, -0.0025367664638906717, 0.018987515941262245, 0.07649590075016022, -0.0021018681582063437, 0.008756316266953945, -1.8416027813827895e-08, -0.0327661894261837, -0.07498134672641754, 0.03774338960647583, -0.006661274470388889, 0.017911531031131744, 0.037360578775405884, -0.00791704561561346, -0.031688254326581955, -0.053700875490903854, 0.04613766074180603, 0.029656874015927315, 0.13228784501552582, -0.055572766810655594, -0.07720553129911423, 0.09272871911525726, -0.0002870515745598823, -0.07105870544910431, 0.004180454649031162, -0.0851789116859436, -0.07886505126953125, 0.044523075222969055, 0.0021643235813826323, -0.011038189753890038, -0.0008438651566393673, -0.012406550347805023, -0.04757233336567879, -0.02269347384572029, -0.0544920340180397, -0.06135677173733711, -0.0012543984921649098, 0.010946075432002544, 0.12925134599208832, -0.014347130432724953, -0.016704896464943886, -0.0143271554261446, 0.00016941828653216362, -0.02295100688934326, 0.01777465082705021, -0.0018457976402714849, 0.024440554901957512, -0.07163145393133163, 0.03265770897269249, -0.017663611099123955, -0.023604916408658028, -0.015536238439381123, 0.011170190759003162, -0.005081466864794493, -0.051960527896881104, -0.022664034739136696, -0.04191572219133377, -0.05227764695882797, 0.004741939250379801, 0.14102864265441895, 0.04236733913421631, -0.010610319674015045, 0.07759623974561691, 0.04271923750638962, -0.016626326367259026, -0.0729968398809433, 0.008720658719539642, 0.02335057035088539, 0.025074174627661705, 0.011280028149485588, -0.011797796934843063]\n"
     ]
    }
   ],
   "source": [
    "query_result = embeddings.embed_query(\"Hello wolrd\")\n",
    "\n",
    "print(query_result)"
   ]
  },
  {
   "cell_type": "code",
   "execution_count": 9,
   "metadata": {},
   "outputs": [],
   "source": [
    "index_name = \"medical-chatbot\"\n",
    "\n",
    "docsearch = PineconeVectorStore.from_documents(text_chunks, embeddings, index_name=index_name)"
   ]
  },
  {
   "cell_type": "code",
   "execution_count": 11,
   "metadata": {},
   "outputs": [
    {
     "name": "stdout",
     "output_type": "stream",
     "text": [
      "8th ed. St. Louis: Mosby, 1996.\n",
      "ORGANIZATIONS\n",
      "American Academy of Ophthalmology. 655 Beach Street, PO\n",
      "Box 7424, San Francisco, CA 94120-7424. <http://www.eyenet.org>.KEY TERMS\n",
      "Allergen —A substance capable of inducing an\n",
      "allergic response.\n",
      "Allergic reaction —An immune system reaction to\n",
      "a substance in the environment; symptomsinclude rash, inflammation, sneezing, itchy wateryeyes, and runny nose.\n",
      "Conjunctiva —The mucous membrane that covers\n",
      "the white part of the eyes and lines the eyelids.\n"
     ]
    }
   ],
   "source": [
    "query = \"What are allergies?\"\n",
    "docs = docsearch.similarity_search(query, k=3)\n",
    "print(docs[0].page_content)"
   ]
  },
  {
   "cell_type": "code",
   "execution_count": 12,
   "metadata": {},
   "outputs": [],
   "source": [
    "prompt_template = \"\"\"\n",
    "Use the following information to answer the user's question.\n",
    "If you don't know the answer, you can ask for more information.\n",
    "\n",
    "Context: {context}\n",
    "Question: {question}\n",
    "\n",
    "Only respond with the information that is relevant to the user's question.\n",
    "Answer:\n",
    "\"\"\""
   ]
  },
  {
   "cell_type": "code",
   "execution_count": 19,
   "metadata": {},
   "outputs": [],
   "source": [
    "prompt=PromptTemplate(template=prompt_template, input_variables=[\"context\", \"question\"])"
   ]
  },
  {
   "cell_type": "code",
   "execution_count": 20,
   "metadata": {},
   "outputs": [],
   "source": [
    "llm=CTransformers(model=\"../model/llama-2-7b-chat.ggmlv3.q4_0.bin\", \n",
    "                  model_type=\"llama\", \n",
    "                  config={'max_new_tokens':512,\n",
    "                          'temperature':0.8\n",
    "                        })"
   ]
  },
  {
   "cell_type": "code",
   "execution_count": 23,
   "metadata": {},
   "outputs": [],
   "source": [
    "rag_chain = (\n",
    "    {\"context\": docsearch.as_retriever(search_kwargs={'k':2}), \"question\": RunnablePassthrough()}\n",
    "    | prompt\n",
    "    | llm \n",
    "    | StrOutputParser()\n",
    ")"
   ]
  },
  {
   "cell_type": "code",
   "execution_count": 24,
   "metadata": {},
   "outputs": [
    {
     "name": "stderr",
     "output_type": "stream",
     "text": [
      "Number of tokens (513) exceeded maximum context length (512).\n",
      "Number of tokens (514) exceeded maximum context length (512).\n",
      "Number of tokens (515) exceeded maximum context length (512).\n",
      "Number of tokens (516) exceeded maximum context length (512).\n",
      "Number of tokens (517) exceeded maximum context length (512).\n",
      "Number of tokens (518) exceeded maximum context length (512).\n",
      "Number of tokens (519) exceeded maximum context length (512).\n",
      "Number of tokens (520) exceeded maximum context length (512).\n",
      "Number of tokens (521) exceeded maximum context length (512).\n",
      "Number of tokens (522) exceeded maximum context length (512).\n",
      "Number of tokens (523) exceeded maximum context length (512).\n",
      "Number of tokens (524) exceeded maximum context length (512).\n",
      "Number of tokens (525) exceeded maximum context length (512).\n",
      "Number of tokens (526) exceeded maximum context length (512).\n",
      "Number of tokens (527) exceeded maximum context length (512).\n",
      "Number of tokens (528) exceeded maximum context length (512).\n",
      "Number of tokens (529) exceeded maximum context length (512).\n",
      "Number of tokens (530) exceeded maximum context length (512).\n",
      "Number of tokens (531) exceeded maximum context length (512).\n",
      "Number of tokens (532) exceeded maximum context length (512).\n",
      "Number of tokens (533) exceeded maximum context length (512).\n",
      "Number of tokens (534) exceeded maximum context length (512).\n",
      "Number of tokens (535) exceeded maximum context length (512).\n",
      "Number of tokens (536) exceeded maximum context length (512).\n",
      "Number of tokens (537) exceeded maximum context length (512).\n",
      "Number of tokens (538) exceeded maximum context length (512).\n",
      "Number of tokens (539) exceeded maximum context length (512).\n",
      "Number of tokens (540) exceeded maximum context length (512).\n",
      "Number of tokens (541) exceeded maximum context length (512).\n",
      "Number of tokens (542) exceeded maximum context length (512).\n",
      "Number of tokens (543) exceeded maximum context length (512).\n",
      "Number of tokens (544) exceeded maximum context length (512).\n",
      "Number of tokens (545) exceeded maximum context length (512).\n",
      "Number of tokens (546) exceeded maximum context length (512).\n",
      "Number of tokens (547) exceeded maximum context length (512).\n",
      "Number of tokens (548) exceeded maximum context length (512).\n",
      "Number of tokens (549) exceeded maximum context length (512).\n",
      "Number of tokens (550) exceeded maximum context length (512).\n",
      "Number of tokens (551) exceeded maximum context length (512).\n",
      "Number of tokens (552) exceeded maximum context length (512).\n",
      "Number of tokens (553) exceeded maximum context length (512).\n",
      "Number of tokens (554) exceeded maximum context length (512).\n",
      "Number of tokens (555) exceeded maximum context length (512).\n",
      "Number of tokens (556) exceeded maximum context length (512).\n",
      "Number of tokens (557) exceeded maximum context length (512).\n",
      "Number of tokens (558) exceeded maximum context length (512).\n",
      "Number of tokens (559) exceeded maximum context length (512).\n",
      "Number of tokens (560) exceeded maximum context length (512).\n",
      "Number of tokens (561) exceeded maximum context length (512).\n",
      "Number of tokens (562) exceeded maximum context length (512).\n",
      "Number of tokens (563) exceeded maximum context length (512).\n",
      "Number of tokens (564) exceeded maximum context length (512).\n",
      "Number of tokens (565) exceeded maximum context length (512).\n",
      "Number of tokens (566) exceeded maximum context length (512).\n",
      "Number of tokens (567) exceeded maximum context length (512).\n",
      "Number of tokens (568) exceeded maximum context length (512).\n",
      "Number of tokens (569) exceeded maximum context length (512).\n",
      "Number of tokens (570) exceeded maximum context length (512).\n",
      "Number of tokens (571) exceeded maximum context length (512).\n",
      "Number of tokens (572) exceeded maximum context length (512).\n",
      "Number of tokens (573) exceeded maximum context length (512).\n",
      "Number of tokens (574) exceeded maximum context length (512).\n",
      "Number of tokens (575) exceeded maximum context length (512).\n",
      "Number of tokens (576) exceeded maximum context length (512).\n",
      "Number of tokens (577) exceeded maximum context length (512).\n",
      "Number of tokens (578) exceeded maximum context length (512).\n",
      "Number of tokens (579) exceeded maximum context length (512).\n",
      "Number of tokens (580) exceeded maximum context length (512).\n",
      "Number of tokens (581) exceeded maximum context length (512).\n",
      "Number of tokens (582) exceeded maximum context length (512).\n",
      "Number of tokens (583) exceeded maximum context length (512).\n",
      "Number of tokens (584) exceeded maximum context length (512).\n",
      "Number of tokens (585) exceeded maximum context length (512).\n",
      "Number of tokens (586) exceeded maximum context length (512).\n",
      "Number of tokens (587) exceeded maximum context length (512).\n",
      "Number of tokens (588) exceeded maximum context length (512).\n",
      "Number of tokens (589) exceeded maximum context length (512).\n",
      "Number of tokens (590) exceeded maximum context length (512).\n",
      "Number of tokens (591) exceeded maximum context length (512).\n",
      "Number of tokens (592) exceeded maximum context length (512).\n",
      "Number of tokens (593) exceeded maximum context length (512).\n",
      "Number of tokens (594) exceeded maximum context length (512).\n",
      "Number of tokens (595) exceeded maximum context length (512).\n",
      "Number of tokens (596) exceeded maximum context length (512).\n",
      "Number of tokens (597) exceeded maximum context length (512).\n",
      "Number of tokens (598) exceeded maximum context length (512).\n",
      "Number of tokens (599) exceeded maximum context length (512).\n",
      "Number of tokens (600) exceeded maximum context length (512).\n",
      "Number of tokens (601) exceeded maximum context length (512).\n",
      "Number of tokens (602) exceeded maximum context length (512).\n",
      "Number of tokens (603) exceeded maximum context length (512).\n",
      "Number of tokens (604) exceeded maximum context length (512).\n",
      "Number of tokens (605) exceeded maximum context length (512).\n",
      "Number of tokens (606) exceeded maximum context length (512).\n",
      "Number of tokens (607) exceeded maximum context length (512).\n",
      "Number of tokens (608) exceeded maximum context length (512).\n",
      "Number of tokens (609) exceeded maximum context length (512).\n",
      "Number of tokens (610) exceeded maximum context length (512).\n",
      "Number of tokens (611) exceeded maximum context length (512).\n",
      "Number of tokens (612) exceeded maximum context length (512).\n",
      "Number of tokens (613) exceeded maximum context length (512).\n",
      "Number of tokens (614) exceeded maximum context length (512).\n",
      "Number of tokens (615) exceeded maximum context length (512).\n",
      "Number of tokens (616) exceeded maximum context length (512).\n",
      "Number of tokens (617) exceeded maximum context length (512).\n",
      "Number of tokens (618) exceeded maximum context length (512).\n",
      "Number of tokens (619) exceeded maximum context length (512).\n",
      "Number of tokens (620) exceeded maximum context length (512).\n",
      "Number of tokens (621) exceeded maximum context length (512).\n",
      "Number of tokens (622) exceeded maximum context length (512).\n",
      "Number of tokens (623) exceeded maximum context length (512).\n",
      "Number of tokens (624) exceeded maximum context length (512).\n",
      "Number of tokens (625) exceeded maximum context length (512).\n"
     ]
    },
    {
     "data": {
      "text/plain": [
       "'Allergy is an immune system reaction to a substance in the environment. Symptoms include rash, inflammation, sneezing, itchy watery eyes, and runny nose. Allergens are foreign substances that can induce an allergic response. Examples of this includes mites, such as they can include mites, such as they can be ith. Common allergies, such as well known as they include dust or immune. Examples include dust or cause the body. Examples of any time. Examples of some common ones when in some examples include pollen and are class=\" Aller, such as they include mites. Common allergensuring to environmental medicine is something in a substances. Conj and may include mite, such as well-a '"
      ]
     },
     "execution_count": 24,
     "metadata": {},
     "output_type": "execute_result"
    }
   ],
   "source": [
    "rag_chain.invoke(\"Tell me about allergies\")"
   ]
  },
  {
   "cell_type": "code",
   "execution_count": null,
   "metadata": {},
   "outputs": [],
   "source": []
  }
 ],
 "metadata": {
  "kernelspec": {
   "display_name": "venv",
   "language": "python",
   "name": "python3"
  },
  "language_info": {
   "codemirror_mode": {
    "name": "ipython",
    "version": 3
   },
   "file_extension": ".py",
   "mimetype": "text/x-python",
   "name": "python",
   "nbconvert_exporter": "python",
   "pygments_lexer": "ipython3",
   "version": "3.10.12"
  }
 },
 "nbformat": 4,
 "nbformat_minor": 2
}
